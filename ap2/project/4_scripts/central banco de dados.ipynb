{
 "cells": [
  {
   "cell_type": "code",
   "execution_count": 3,
   "metadata": {},
   "outputs": [],
   "source": [
    "import pandas as pd\n",
    "from sqlalchemy import create_engine"
   ]
  },
  {
   "cell_type": "code",
   "execution_count": 2,
   "metadata": {},
   "outputs": [],
   "source": [
    "csv_file = '../0_bases_originais/dados.csv'"
   ]
  },
  {
   "cell_type": "code",
   "execution_count": 6,
   "metadata": {},
   "outputs": [],
   "source": [
    "engine = create_engine(r'sqlite:///./\\banco.db', echo=True)\n"
   ]
  },
  {
   "cell_type": "code",
   "execution_count": 7,
   "metadata": {},
   "outputs": [
    {
     "name": "stdout",
     "output_type": "stream",
     "text": [
      "2024-11-22 18:16:18,796 INFO sqlalchemy.engine.Engine BEGIN (implicit)\n",
      "2024-11-22 18:16:18,807 INFO sqlalchemy.engine.Engine PRAGMA main.table_info(\"gol\")\n",
      "2024-11-22 18:16:18,807 INFO sqlalchemy.engine.Engine [raw sql] ()\n",
      "2024-11-22 18:16:18,814 INFO sqlalchemy.engine.Engine PRAGMA temp.table_info(\"gol\")\n",
      "2024-11-22 18:16:18,814 INFO sqlalchemy.engine.Engine [raw sql] ()\n",
      "2024-11-22 18:16:18,814 INFO sqlalchemy.engine.Engine \n",
      "CREATE TABLE gol (\n",
      "\t\"Tempo\" TEXT, \n",
      "\t\"Tipo\" TEXT, \n",
      "\t\"Preco\" FLOAT, \n",
      "\t\"Dia\" TEXT, \n",
      "\t\"Dia_da_semana\" TEXT, \n",
      "\t\"Partida_local\" TEXT, \n",
      "\t\"Partida_horario\" TEXT, \n",
      "\t\"Chegada_local\" TEXT, \n",
      "\t\"Chegada_horario\" TEXT\n",
      ")\n",
      "\n",
      "\n",
      "2024-11-22 18:16:18,814 INFO sqlalchemy.engine.Engine [no key 0.00196s] ()\n",
      "2024-11-22 18:16:18,834 INFO sqlalchemy.engine.Engine INSERT INTO gol (\"Tempo\", \"Tipo\", \"Preco\", \"Dia\", \"Dia_da_semana\", \"Partida_local\", \"Partida_horario\", \"Chegada_local\", \"Chegada_horario\") VALUES (?, ?, ?, ?, ?, ?, ?, ?, ?)\n",
      "2024-11-22 18:16:18,840 INFO sqlalchemy.engine.Engine [generated in 0.00590s] [('01:05', 'Direto', 1962.01, ' 04/10', 'SEXTA-FEIRA', 'CGH ', ' 20:10', 'SDU ', ' 21:15'), ('01:05', 'Direto', 1962.01, ' 04/10', 'SEXTA-FEIRA', 'CGH ', ' 19:40', 'SDU ', ' 20:45'), ('01:05', 'Direto', 1962.01, ' 04/10', 'SEXTA-FEIRA', 'CGH ', ' 18:55', 'SDU ', ' 20:00'), ('01:05', 'Direto', 1962.01, ' 04/10', 'SEXTA-FEIRA', 'CGH ', ' 18:25', 'SDU ', ' 19:30'), ('01:05', 'Direto', 1962.01, ' 04/10', 'SEXTA-FEIRA', 'CGH ', ' 17:35', 'SDU ', ' 18:40'), ('01:05', 'Direto', 1962.01, ' 04/10', 'SEXTA-FEIRA', 'CGH ', ' 16:45', 'SDU ', ' 17:50'), ('01:05', 'Direto', 1962.01, ' 04/10', 'SEXTA-FEIRA', 'CGH ', ' 16:15', 'SDU ', ' 17:20'), ('01:05', 'Direto', 1962.01, ' 04/10', 'SEXTA-FEIRA', 'CGH ', ' 15:35', 'SDU ', ' 16:40')  ... displaying 10 of 452 total bound parameter sets ...  ('01:05', 'Direto', 641.01, ' 14/10', 'SEGUNDA-FEIRA', 'CGH ', ' 07:00', 'SDU ', ' 08:05'), ('01:05', 'Direto', 641.01, ' 14/10', 'SEGUNDA-FEIRA', 'CGH ', ' 06:20', 'SDU ', ' 07:25')]\n",
      "2024-11-22 18:16:18,848 INFO sqlalchemy.engine.Engine COMMIT\n"
     ]
    },
    {
     "data": {
      "text/plain": [
       "452"
      ]
     },
     "execution_count": 7,
     "metadata": {},
     "output_type": "execute_result"
    }
   ],
   "source": [
    "df = pd.read_csv(csv_file)\n",
    "df.to_sql('gol', con=engine, if_exists='replace', index=False)\n"
   ]
  }
 ],
 "metadata": {
  "kernelspec": {
   "display_name": "Python 3",
   "language": "python",
   "name": "python3"
  },
  "language_info": {
   "codemirror_mode": {
    "name": "ipython",
    "version": 3
   },
   "file_extension": ".py",
   "mimetype": "text/x-python",
   "name": "python",
   "nbconvert_exporter": "python",
   "pygments_lexer": "ipython3",
   "version": "3.11.9"
  }
 },
 "nbformat": 4,
 "nbformat_minor": 2
}
